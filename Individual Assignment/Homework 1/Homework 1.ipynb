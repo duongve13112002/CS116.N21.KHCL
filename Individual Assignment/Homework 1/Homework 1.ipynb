{
  "nbformat": 4,
  "nbformat_minor": 0,
  "metadata": {
    "colab": {
      "provenance": []
    },
    "kernelspec": {
      "name": "python3",
      "display_name": "Python 3"
    },
    "language_info": {
      "name": "python"
    },
    "gpuClass": "standard"
  },
  "cells": [
    {
      "cell_type": "markdown",
      "source": [
        "# Họ và tên: Nguyễn Vũ Dương\n",
        "  MSSV: 20520465"
      ],
      "metadata": {
        "id": "F9Z7C-leF0c7"
      }
    },
    {
      "cell_type": "markdown",
      "source": [
        "##Import library"
      ],
      "metadata": {
        "id": "BQGOIRaRGHNB"
      }
    },
    {
      "cell_type": "code",
      "source": [
        "!pip install geopandas"
      ],
      "metadata": {
        "colab": {
          "base_uri": "https://localhost:8080/"
        },
        "id": "XeP721kLGU0S",
        "outputId": "ceae6803-c8cd-47d0-a352-d94208064915"
      },
      "execution_count": 2,
      "outputs": [
        {
          "output_type": "stream",
          "name": "stdout",
          "text": [
            "Looking in indexes: https://pypi.org/simple, https://us-python.pkg.dev/colab-wheels/public/simple/\n",
            "Collecting geopandas\n",
            "  Downloading geopandas-0.12.2-py3-none-any.whl (1.1 MB)\n",
            "\u001b[2K     \u001b[90m━━━━━━━━━━━━━━━━━━━━━━━━━━━━━━━━━━━━━━━━\u001b[0m \u001b[32m1.1/1.1 MB\u001b[0m \u001b[31m12.2 MB/s\u001b[0m eta \u001b[36m0:00:00\u001b[0m\n",
            "\u001b[?25hCollecting pyproj>=2.6.1.post1\n",
            "  Downloading pyproj-3.4.1-cp39-cp39-manylinux_2_17_x86_64.manylinux2014_x86_64.whl (7.7 MB)\n",
            "\u001b[2K     \u001b[90m━━━━━━━━━━━━━━━━━━━━━━━━━━━━━━━━━━━━━━━━\u001b[0m \u001b[32m7.7/7.7 MB\u001b[0m \u001b[31m49.8 MB/s\u001b[0m eta \u001b[36m0:00:00\u001b[0m\n",
            "\u001b[?25hRequirement already satisfied: pandas>=1.0.0 in /usr/local/lib/python3.9/dist-packages (from geopandas) (1.4.4)\n",
            "Requirement already satisfied: packaging in /usr/local/lib/python3.9/dist-packages (from geopandas) (23.0)\n",
            "Requirement already satisfied: shapely>=1.7 in /usr/local/lib/python3.9/dist-packages (from geopandas) (2.0.1)\n",
            "Collecting fiona>=1.8\n",
            "  Downloading Fiona-1.9.1-cp39-cp39-manylinux_2_17_x86_64.manylinux2014_x86_64.whl (16.0 MB)\n",
            "\u001b[2K     \u001b[90m━━━━━━━━━━━━━━━━━━━━━━━━━━━━━━━━━━━━━━━━\u001b[0m \u001b[32m16.0/16.0 MB\u001b[0m \u001b[31m37.1 MB/s\u001b[0m eta \u001b[36m0:00:00\u001b[0m\n",
            "\u001b[?25hCollecting munch>=2.3.2\n",
            "  Downloading munch-2.5.0-py2.py3-none-any.whl (10 kB)\n",
            "Requirement already satisfied: certifi in /usr/local/lib/python3.9/dist-packages (from fiona>=1.8->geopandas) (2022.12.7)\n",
            "Requirement already satisfied: setuptools in /usr/local/lib/python3.9/dist-packages (from fiona>=1.8->geopandas) (63.4.3)\n",
            "Requirement already satisfied: click~=8.0 in /usr/local/lib/python3.9/dist-packages (from fiona>=1.8->geopandas) (8.1.3)\n",
            "Collecting click-plugins>=1.0\n",
            "  Downloading click_plugins-1.1.1-py2.py3-none-any.whl (7.5 kB)\n",
            "Requirement already satisfied: attrs>=19.2.0 in /usr/local/lib/python3.9/dist-packages (from fiona>=1.8->geopandas) (22.2.0)\n",
            "Collecting cligj>=0.5\n",
            "  Downloading cligj-0.7.2-py3-none-any.whl (7.1 kB)\n",
            "Requirement already satisfied: numpy>=1.18.5 in /usr/local/lib/python3.9/dist-packages (from pandas>=1.0.0->geopandas) (1.22.4)\n",
            "Requirement already satisfied: python-dateutil>=2.8.1 in /usr/local/lib/python3.9/dist-packages (from pandas>=1.0.0->geopandas) (2.8.2)\n",
            "Requirement already satisfied: pytz>=2020.1 in /usr/local/lib/python3.9/dist-packages (from pandas>=1.0.0->geopandas) (2022.7.1)\n",
            "Requirement already satisfied: six in /usr/local/lib/python3.9/dist-packages (from munch>=2.3.2->fiona>=1.8->geopandas) (1.15.0)\n",
            "Installing collected packages: pyproj, munch, cligj, click-plugins, fiona, geopandas\n",
            "Successfully installed click-plugins-1.1.1 cligj-0.7.2 fiona-1.9.1 geopandas-0.12.2 munch-2.5.0 pyproj-3.4.1\n"
          ]
        }
      ]
    },
    {
      "cell_type": "code",
      "source": [
        "!git clone https://github.com/CityScope/CSL_HCMC"
      ],
      "metadata": {
        "colab": {
          "base_uri": "https://localhost:8080/"
        },
        "id": "jn2tUt3UGgwq",
        "outputId": "d5d6059a-130b-496d-88bd-2a54dc2a593c"
      },
      "execution_count": 4,
      "outputs": [
        {
          "output_type": "stream",
          "name": "stdout",
          "text": [
            "Cloning into 'CSL_HCMC'...\n",
            "remote: Enumerating objects: 1957, done.\u001b[K\n",
            "remote: Counting objects: 100% (46/46), done.\u001b[K\n",
            "remote: Compressing objects: 100% (45/45), done.\u001b[K\n",
            "remote: Total 1957 (delta 7), reused 1 (delta 1), pack-reused 1911\u001b[K\n",
            "Receiving objects: 100% (1957/1957), 175.52 MiB | 23.87 MiB/s, done.\n",
            "Resolving deltas: 100% (1064/1064), done.\n",
            "Updating files: 100% (542/542), done.\n"
          ]
        }
      ]
    },
    {
      "cell_type": "code",
      "execution_count": 3,
      "metadata": {
        "id": "EKMUr8BTFpJb"
      },
      "outputs": [],
      "source": [
        "import geopandas"
      ]
    },
    {
      "cell_type": "markdown",
      "source": [
        "##Read dataset"
      ],
      "metadata": {
        "id": "gCRM1F05GsG_"
      }
    },
    {
      "cell_type": "code",
      "source": [
        "gdf = geopandas.read_file(\"/content/CSL_HCMC/Data/GIS/Population/population_HCMC/population_shapefile/Population_Ward_Level.shp\")\n",
        "gdf"
      ],
      "metadata": {
        "colab": {
          "base_uri": "https://localhost:8080/",
          "height": 423
        },
        "id": "4WWETfBbGuC9",
        "outputId": "b1ad4e70-e084-43b6-bb83-7bf508d4c0e1"
      },
      "execution_count": 34,
      "outputs": [
        {
          "output_type": "execute_result",
          "data": {
            "text/plain": [
              "             Com_Name    Dist_Name Com_ID Dist_ID Level  Pop_2009  Pop_2019  \\\n",
              "0            Tan Dinh   District 1  26734     760  Ward   26571.0   23258.0   \n",
              "1            Ben Nghe   District 1  26740     760  Ward   13580.0   10633.0   \n",
              "2        Cau Ong Lanh   District 1  26752     760  Ward   12917.0   10737.0   \n",
              "3    Nguyen Thai Binh   District 1  26746     760  Ward   13197.0    9716.0   \n",
              "4            Co Giang   District 1  26755     760  Ward   18967.0   11517.0   \n",
              "..                ...          ...    ...     ...   ...       ...       ...   \n",
              "317    Tan Hung Thuan  District 12  26787     761  Ward   28892.0   33467.0   \n",
              "318           Ward 17       Go Vap  26875     764  Ward   44226.0   54728.0   \n",
              "319            Ward 8       Go Vap  26898     764  Ward   26545.0   32778.0   \n",
              "320            Ward 9       Go Vap  26897     764  Ward   26785.0   34596.0   \n",
              "321           Ward 12       Go Vap  26881     764  Ward   50356.0   60502.0   \n",
              "\n",
              "     Den_2009  Den_2019   Shape_Leng    Shape_Area  \\\n",
              "0    41942.70  36713.10  3679.098196  6.334981e+05   \n",
              "1     5480.09   4290.86  6978.149149  2.478041e+06   \n",
              "2    56878.90  47279.50  2260.705105  2.270938e+05   \n",
              "3    26798.80  19730.00  3320.174618  4.924426e+05   \n",
              "4    53327.60  32381.20  2525.453814  3.556650e+05   \n",
              "..        ...       ...          ...           ...   \n",
              "317  16053.40  18595.50  6271.308704  1.799659e+06   \n",
              "318  38061.20  47099.30  6385.950275  1.161947e+06   \n",
              "319  22751.50  28093.70  5409.821020  1.166701e+06   \n",
              "320  31843.10  41129.20  3950.799798  8.411288e+05   \n",
              "321  35096.20  42167.60  4848.143508  1.434747e+06   \n",
              "\n",
              "                                              geometry  \n",
              "0    POLYGON ((684350.511 1193546.266, 684363.810 1...  \n",
              "1    POLYGON ((686564.657 1193462.473, 686588.924 1...  \n",
              "2    POLYGON ((685922.373 1190479.807, 685914.160 1...  \n",
              "3    POLYGON ((685966.333 1190513.667, 685944.353 1...  \n",
              "4    POLYGON ((685514.573 1190211.431, 685547.521 1...  \n",
              "..                                                 ...  \n",
              "317  POLYGON ((677816.513 1197206.772, 677796.932 1...  \n",
              "318  POLYGON ((683516.949 1200006.226, 683509.721 1...  \n",
              "319  POLYGON ((680928.492 1199066.285, 680984.889 1...  \n",
              "320  POLYGON ((681120.443 1199640.183, 681120.846 1...  \n",
              "321  POLYGON ((679970.916 1198480.707, 679932.874 1...  \n",
              "\n",
              "[322 rows x 12 columns]"
            ],
            "text/html": [
              "\n",
              "  <div id=\"df-549a29c9-2b1d-4e0b-831f-23a5ec810cd8\">\n",
              "    <div class=\"colab-df-container\">\n",
              "      <div>\n",
              "<style scoped>\n",
              "    .dataframe tbody tr th:only-of-type {\n",
              "        vertical-align: middle;\n",
              "    }\n",
              "\n",
              "    .dataframe tbody tr th {\n",
              "        vertical-align: top;\n",
              "    }\n",
              "\n",
              "    .dataframe thead th {\n",
              "        text-align: right;\n",
              "    }\n",
              "</style>\n",
              "<table border=\"1\" class=\"dataframe\">\n",
              "  <thead>\n",
              "    <tr style=\"text-align: right;\">\n",
              "      <th></th>\n",
              "      <th>Com_Name</th>\n",
              "      <th>Dist_Name</th>\n",
              "      <th>Com_ID</th>\n",
              "      <th>Dist_ID</th>\n",
              "      <th>Level</th>\n",
              "      <th>Pop_2009</th>\n",
              "      <th>Pop_2019</th>\n",
              "      <th>Den_2009</th>\n",
              "      <th>Den_2019</th>\n",
              "      <th>Shape_Leng</th>\n",
              "      <th>Shape_Area</th>\n",
              "      <th>geometry</th>\n",
              "    </tr>\n",
              "  </thead>\n",
              "  <tbody>\n",
              "    <tr>\n",
              "      <th>0</th>\n",
              "      <td>Tan Dinh</td>\n",
              "      <td>District 1</td>\n",
              "      <td>26734</td>\n",
              "      <td>760</td>\n",
              "      <td>Ward</td>\n",
              "      <td>26571.0</td>\n",
              "      <td>23258.0</td>\n",
              "      <td>41942.70</td>\n",
              "      <td>36713.10</td>\n",
              "      <td>3679.098196</td>\n",
              "      <td>6.334981e+05</td>\n",
              "      <td>POLYGON ((684350.511 1193546.266, 684363.810 1...</td>\n",
              "    </tr>\n",
              "    <tr>\n",
              "      <th>1</th>\n",
              "      <td>Ben Nghe</td>\n",
              "      <td>District 1</td>\n",
              "      <td>26740</td>\n",
              "      <td>760</td>\n",
              "      <td>Ward</td>\n",
              "      <td>13580.0</td>\n",
              "      <td>10633.0</td>\n",
              "      <td>5480.09</td>\n",
              "      <td>4290.86</td>\n",
              "      <td>6978.149149</td>\n",
              "      <td>2.478041e+06</td>\n",
              "      <td>POLYGON ((686564.657 1193462.473, 686588.924 1...</td>\n",
              "    </tr>\n",
              "    <tr>\n",
              "      <th>2</th>\n",
              "      <td>Cau Ong Lanh</td>\n",
              "      <td>District 1</td>\n",
              "      <td>26752</td>\n",
              "      <td>760</td>\n",
              "      <td>Ward</td>\n",
              "      <td>12917.0</td>\n",
              "      <td>10737.0</td>\n",
              "      <td>56878.90</td>\n",
              "      <td>47279.50</td>\n",
              "      <td>2260.705105</td>\n",
              "      <td>2.270938e+05</td>\n",
              "      <td>POLYGON ((685922.373 1190479.807, 685914.160 1...</td>\n",
              "    </tr>\n",
              "    <tr>\n",
              "      <th>3</th>\n",
              "      <td>Nguyen Thai Binh</td>\n",
              "      <td>District 1</td>\n",
              "      <td>26746</td>\n",
              "      <td>760</td>\n",
              "      <td>Ward</td>\n",
              "      <td>13197.0</td>\n",
              "      <td>9716.0</td>\n",
              "      <td>26798.80</td>\n",
              "      <td>19730.00</td>\n",
              "      <td>3320.174618</td>\n",
              "      <td>4.924426e+05</td>\n",
              "      <td>POLYGON ((685966.333 1190513.667, 685944.353 1...</td>\n",
              "    </tr>\n",
              "    <tr>\n",
              "      <th>4</th>\n",
              "      <td>Co Giang</td>\n",
              "      <td>District 1</td>\n",
              "      <td>26755</td>\n",
              "      <td>760</td>\n",
              "      <td>Ward</td>\n",
              "      <td>18967.0</td>\n",
              "      <td>11517.0</td>\n",
              "      <td>53327.60</td>\n",
              "      <td>32381.20</td>\n",
              "      <td>2525.453814</td>\n",
              "      <td>3.556650e+05</td>\n",
              "      <td>POLYGON ((685514.573 1190211.431, 685547.521 1...</td>\n",
              "    </tr>\n",
              "    <tr>\n",
              "      <th>...</th>\n",
              "      <td>...</td>\n",
              "      <td>...</td>\n",
              "      <td>...</td>\n",
              "      <td>...</td>\n",
              "      <td>...</td>\n",
              "      <td>...</td>\n",
              "      <td>...</td>\n",
              "      <td>...</td>\n",
              "      <td>...</td>\n",
              "      <td>...</td>\n",
              "      <td>...</td>\n",
              "      <td>...</td>\n",
              "    </tr>\n",
              "    <tr>\n",
              "      <th>317</th>\n",
              "      <td>Tan Hung Thuan</td>\n",
              "      <td>District 12</td>\n",
              "      <td>26787</td>\n",
              "      <td>761</td>\n",
              "      <td>Ward</td>\n",
              "      <td>28892.0</td>\n",
              "      <td>33467.0</td>\n",
              "      <td>16053.40</td>\n",
              "      <td>18595.50</td>\n",
              "      <td>6271.308704</td>\n",
              "      <td>1.799659e+06</td>\n",
              "      <td>POLYGON ((677816.513 1197206.772, 677796.932 1...</td>\n",
              "    </tr>\n",
              "    <tr>\n",
              "      <th>318</th>\n",
              "      <td>Ward 17</td>\n",
              "      <td>Go Vap</td>\n",
              "      <td>26875</td>\n",
              "      <td>764</td>\n",
              "      <td>Ward</td>\n",
              "      <td>44226.0</td>\n",
              "      <td>54728.0</td>\n",
              "      <td>38061.20</td>\n",
              "      <td>47099.30</td>\n",
              "      <td>6385.950275</td>\n",
              "      <td>1.161947e+06</td>\n",
              "      <td>POLYGON ((683516.949 1200006.226, 683509.721 1...</td>\n",
              "    </tr>\n",
              "    <tr>\n",
              "      <th>319</th>\n",
              "      <td>Ward 8</td>\n",
              "      <td>Go Vap</td>\n",
              "      <td>26898</td>\n",
              "      <td>764</td>\n",
              "      <td>Ward</td>\n",
              "      <td>26545.0</td>\n",
              "      <td>32778.0</td>\n",
              "      <td>22751.50</td>\n",
              "      <td>28093.70</td>\n",
              "      <td>5409.821020</td>\n",
              "      <td>1.166701e+06</td>\n",
              "      <td>POLYGON ((680928.492 1199066.285, 680984.889 1...</td>\n",
              "    </tr>\n",
              "    <tr>\n",
              "      <th>320</th>\n",
              "      <td>Ward 9</td>\n",
              "      <td>Go Vap</td>\n",
              "      <td>26897</td>\n",
              "      <td>764</td>\n",
              "      <td>Ward</td>\n",
              "      <td>26785.0</td>\n",
              "      <td>34596.0</td>\n",
              "      <td>31843.10</td>\n",
              "      <td>41129.20</td>\n",
              "      <td>3950.799798</td>\n",
              "      <td>8.411288e+05</td>\n",
              "      <td>POLYGON ((681120.443 1199640.183, 681120.846 1...</td>\n",
              "    </tr>\n",
              "    <tr>\n",
              "      <th>321</th>\n",
              "      <td>Ward 12</td>\n",
              "      <td>Go Vap</td>\n",
              "      <td>26881</td>\n",
              "      <td>764</td>\n",
              "      <td>Ward</td>\n",
              "      <td>50356.0</td>\n",
              "      <td>60502.0</td>\n",
              "      <td>35096.20</td>\n",
              "      <td>42167.60</td>\n",
              "      <td>4848.143508</td>\n",
              "      <td>1.434747e+06</td>\n",
              "      <td>POLYGON ((679970.916 1198480.707, 679932.874 1...</td>\n",
              "    </tr>\n",
              "  </tbody>\n",
              "</table>\n",
              "<p>322 rows × 12 columns</p>\n",
              "</div>\n",
              "      <button class=\"colab-df-convert\" onclick=\"convertToInteractive('df-549a29c9-2b1d-4e0b-831f-23a5ec810cd8')\"\n",
              "              title=\"Convert this dataframe to an interactive table.\"\n",
              "              style=\"display:none;\">\n",
              "        \n",
              "  <svg xmlns=\"http://www.w3.org/2000/svg\" height=\"24px\"viewBox=\"0 0 24 24\"\n",
              "       width=\"24px\">\n",
              "    <path d=\"M0 0h24v24H0V0z\" fill=\"none\"/>\n",
              "    <path d=\"M18.56 5.44l.94 2.06.94-2.06 2.06-.94-2.06-.94-.94-2.06-.94 2.06-2.06.94zm-11 1L8.5 8.5l.94-2.06 2.06-.94-2.06-.94L8.5 2.5l-.94 2.06-2.06.94zm10 10l.94 2.06.94-2.06 2.06-.94-2.06-.94-.94-2.06-.94 2.06-2.06.94z\"/><path d=\"M17.41 7.96l-1.37-1.37c-.4-.4-.92-.59-1.43-.59-.52 0-1.04.2-1.43.59L10.3 9.45l-7.72 7.72c-.78.78-.78 2.05 0 2.83L4 21.41c.39.39.9.59 1.41.59.51 0 1.02-.2 1.41-.59l7.78-7.78 2.81-2.81c.8-.78.8-2.07 0-2.86zM5.41 20L4 18.59l7.72-7.72 1.47 1.35L5.41 20z\"/>\n",
              "  </svg>\n",
              "      </button>\n",
              "      \n",
              "  <style>\n",
              "    .colab-df-container {\n",
              "      display:flex;\n",
              "      flex-wrap:wrap;\n",
              "      gap: 12px;\n",
              "    }\n",
              "\n",
              "    .colab-df-convert {\n",
              "      background-color: #E8F0FE;\n",
              "      border: none;\n",
              "      border-radius: 50%;\n",
              "      cursor: pointer;\n",
              "      display: none;\n",
              "      fill: #1967D2;\n",
              "      height: 32px;\n",
              "      padding: 0 0 0 0;\n",
              "      width: 32px;\n",
              "    }\n",
              "\n",
              "    .colab-df-convert:hover {\n",
              "      background-color: #E2EBFA;\n",
              "      box-shadow: 0px 1px 2px rgba(60, 64, 67, 0.3), 0px 1px 3px 1px rgba(60, 64, 67, 0.15);\n",
              "      fill: #174EA6;\n",
              "    }\n",
              "\n",
              "    [theme=dark] .colab-df-convert {\n",
              "      background-color: #3B4455;\n",
              "      fill: #D2E3FC;\n",
              "    }\n",
              "\n",
              "    [theme=dark] .colab-df-convert:hover {\n",
              "      background-color: #434B5C;\n",
              "      box-shadow: 0px 1px 3px 1px rgba(0, 0, 0, 0.15);\n",
              "      filter: drop-shadow(0px 1px 2px rgba(0, 0, 0, 0.3));\n",
              "      fill: #FFFFFF;\n",
              "    }\n",
              "  </style>\n",
              "\n",
              "      <script>\n",
              "        const buttonEl =\n",
              "          document.querySelector('#df-549a29c9-2b1d-4e0b-831f-23a5ec810cd8 button.colab-df-convert');\n",
              "        buttonEl.style.display =\n",
              "          google.colab.kernel.accessAllowed ? 'block' : 'none';\n",
              "\n",
              "        async function convertToInteractive(key) {\n",
              "          const element = document.querySelector('#df-549a29c9-2b1d-4e0b-831f-23a5ec810cd8');\n",
              "          const dataTable =\n",
              "            await google.colab.kernel.invokeFunction('convertToInteractive',\n",
              "                                                     [key], {});\n",
              "          if (!dataTable) return;\n",
              "\n",
              "          const docLinkHtml = 'Like what you see? Visit the ' +\n",
              "            '<a target=\"_blank\" href=https://colab.research.google.com/notebooks/data_table.ipynb>data table notebook</a>'\n",
              "            + ' to learn more about interactive tables.';\n",
              "          element.innerHTML = '';\n",
              "          dataTable['output_type'] = 'display_data';\n",
              "          await google.colab.output.renderOutput(dataTable, element);\n",
              "          const docLink = document.createElement('div');\n",
              "          docLink.innerHTML = docLinkHtml;\n",
              "          element.appendChild(docLink);\n",
              "        }\n",
              "      </script>\n",
              "    </div>\n",
              "  </div>\n",
              "  "
            ]
          },
          "metadata": {},
          "execution_count": 34
        }
      ]
    },
    {
      "cell_type": "code",
      "source": [
        "# Phường nào có diện tích lớn nhất\n",
        "max_com_area = gdf['Shape_Area'].max()\n",
        "comname = gdf[['Com_Name', 'Dist_Name']][gdf['Shape_Area'] == max_com_area]\n",
        "comname = comname.values\n",
        "print(f'Phường có diện tích lớn nhất là phường {comname[0][0]} quận {comname[0][1]}')"
      ],
      "metadata": {
        "colab": {
          "base_uri": "https://localhost:8080/"
        },
        "id": "GmcnNopLHtf4",
        "outputId": "5d918e6b-dc45-4542-9f9a-11de87e21e06"
      },
      "execution_count": 36,
      "outputs": [
        {
          "output_type": "stream",
          "name": "stdout",
          "text": [
            "Phường có diện tích lớn nhất là phường Ly Nhon quận Can Gio\n"
          ]
        }
      ]
    },
    {
      "cell_type": "code",
      "source": [
        "# Phường nào có dân số 2019 (Pop_2019) cao nhất\n",
        "max_pop = gdf['Pop_2019'].max()\n",
        "comname_maxpop = gdf[['Com_Name', 'Dist_Name']][gdf['Pop_2019'] == max_pop]\n",
        "comname_maxpop = comname_maxpop.values\n",
        "print(f'Phường có dân số 2019 (Pop_2019) cao nhất là phường {comname_maxpop[0][0]} quận {comname_maxpop[0][1]}')"
      ],
      "metadata": {
        "colab": {
          "base_uri": "https://localhost:8080/"
        },
        "id": "gjsFFwZNH17_",
        "outputId": "18955a21-0abb-4b77-fe84-38d2f07e2988"
      },
      "execution_count": 37,
      "outputs": [
        {
          "output_type": "stream",
          "name": "stdout",
          "text": [
            "Phường có dân số 2019 (Pop_2019) cao nhất là phường Vinh Loc A quận Binh Chanh\n"
          ]
        }
      ]
    },
    {
      "cell_type": "code",
      "source": [
        "# Phường nào có diện tích nhỏ nhất\n",
        "min_com_area = gdf['Shape_Area'].min()\n",
        "comname_minarea = gdf[['Com_Name', 'Dist_Name']][gdf['Shape_Area'] == min_com_area]\n",
        "comname_minarea = comname_minarea.values\n",
        "print(f'Phường có diện tích nhỏ nhất là {comname_minarea[0][0]} {comname_minarea[0][1]}')"
      ],
      "metadata": {
        "colab": {
          "base_uri": "https://localhost:8080/"
        },
        "id": "uWuDffFUH6Fd",
        "outputId": "ba5392d3-4644-4267-b69d-4291623ec894"
      },
      "execution_count": 38,
      "outputs": [
        {
          "output_type": "stream",
          "name": "stdout",
          "text": [
            "Phường có diện tích nhỏ nhất là Ward 3 District 10\n"
          ]
        }
      ]
    },
    {
      "cell_type": "code",
      "source": [
        "# Phường nào có dân số thấp nhất (2019)\n",
        "min_pop = gdf['Pop_2019'].min()\n",
        "comname_minpop = gdf[['Com_Name', 'Dist_Name']][gdf['Pop_2019'] == min_pop]\n",
        "comname_minpop = comname_minpop.values\n",
        "print(f'Phường có dân số thấp nhất là phường {comname_minpop[0][0]} {comname_minpop[0][1]}')"
      ],
      "metadata": {
        "colab": {
          "base_uri": "https://localhost:8080/"
        },
        "id": "pDoGtobtIBsc",
        "outputId": "ee1c53ac-f32e-41cd-a261-d5f1613e135b"
      },
      "execution_count": 41,
      "outputs": [
        {
          "output_type": "stream",
          "name": "stdout",
          "text": [
            "Phường có dân số thấp nhất là phường An Khanh District 2\n"
          ]
        }
      ]
    },
    {
      "cell_type": "code",
      "source": [
        "# Phường nào có tốc độ tăng trưởng dân số nhanh nhất (dựa trên Pop_2009 và Pop_2019)\n",
        "max_grow = ((gdf['Pop_2019'] -  gdf['Pop_2009']) / gdf['Pop_2019']).max()\n",
        "comname_maxgrow = gdf[['Com_Name', 'Dist_Name']][((gdf['Pop_2019'] -  gdf['Pop_2009']) / gdf['Pop_2019']) == max_grow]\n",
        "comname_maxgrow = comname_maxgrow.values\n",
        "print(f'Phường có tốc độ tăng trưởng dân số nhanh nhất (dựa trên Pop_2009 và Pop_2019) là phường {comname_maxgrow[0][0]} {comname_maxgrow[0][1]}')"
      ],
      "metadata": {
        "colab": {
          "base_uri": "https://localhost:8080/"
        },
        "id": "nrxgEwntIMXq",
        "outputId": "db6f75d7-c00a-4e14-d462-e12130e2ef31"
      },
      "execution_count": 48,
      "outputs": [
        {
          "output_type": "stream",
          "name": "stdout",
          "text": [
            "Phường có tốc độ tăng trưởng dân số nhanh nhất (dựa trên Pop_2009 và Pop_2019) là phường Phu Huu District 9\n"
          ]
        }
      ]
    },
    {
      "cell_type": "code",
      "source": [
        "# Phường nào có tốc độ tăng trưởng dân số thấp nhất\n",
        "min_grow = ((gdf['Pop_2019'] -  gdf['Pop_2009']) / gdf['Pop_2019']).min()\n",
        "comname_mingrow = gdf[['Com_Name', 'Dist_Name']][((gdf['Pop_2019'] -  gdf['Pop_2009']) / gdf['Pop_2019']) == min_grow]\n",
        "comname_mingrow = comname_mingrow.values\n",
        "print(f'Phường có tốc độ tăng trưởng dân số thấp nhất là phường {comname_mingrow[0][0]} {comname_mingrow[0][1]}')"
      ],
      "metadata": {
        "colab": {
          "base_uri": "https://localhost:8080/"
        },
        "id": "63aZq2piIXtq",
        "outputId": "cb872216-fe31-4814-a656-cd04b015d9ab"
      },
      "execution_count": 49,
      "outputs": [
        {
          "output_type": "stream",
          "name": "stdout",
          "text": [
            "Phường có tốc độ tăng trưởng dân số thấp nhất là phường An Khanh District 2\n"
          ]
        }
      ]
    },
    {
      "cell_type": "code",
      "source": [
        "# Phường nào có biến động dân số nhanh nhất\n",
        "fastest_grow = (gdf['Pop_2019'] - gdf['Pop_2009']).max()\n",
        "comname_fastestgrow = gdf[['Com_Name', 'Dist_Name']][(gdf['Pop_2019'] - gdf['Pop_2009']) == fastest_grow]\n",
        "comname_fastestgrow = comname_fastestgrow.values\n",
        "print(f'Phường có biến động dân số nhanh nhất là phường {comname_fastestgrow[0][0]} quận {comname_fastestgrow[0][1]}')"
      ],
      "metadata": {
        "colab": {
          "base_uri": "https://localhost:8080/"
        },
        "id": "6kUmmN4BIf99",
        "outputId": "f5dcc586-3375-4143-d57c-affc51cbc7ac"
      },
      "execution_count": 44,
      "outputs": [
        {
          "output_type": "stream",
          "name": "stdout",
          "text": [
            "Phường có biến động dân số nhanh nhất là phường Vinh Loc A quận Binh Chanh\n"
          ]
        }
      ]
    },
    {
      "cell_type": "code",
      "source": [
        "# Phường nào có biến động dân số chậm nhất\n",
        "slowest_grow = (gdf['Pop_2019'] - gdf['Pop_2009']).min()\n",
        "comname_slowestgrow = gdf[['Com_Name', 'Dist_Name']][(gdf['Pop_2019'] - gdf['Pop_2009']) == slowest_grow]\n",
        "comname_slowestgrow = comname_slowestgrow.values\n",
        "print(f'Phường có biến động dân số chậm nhất là phường {comname_slowestgrow[0][0]} {comname_slowestgrow[0][1]}')"
      ],
      "metadata": {
        "colab": {
          "base_uri": "https://localhost:8080/"
        },
        "id": "6vykIArDI7sa",
        "outputId": "695618bf-72d9-48fc-8cd1-80acdebc58ee"
      },
      "execution_count": 45,
      "outputs": [
        {
          "output_type": "stream",
          "name": "stdout",
          "text": [
            "Phường có biến động dân số chậm nhất là phường An Khanh District 2\n"
          ]
        }
      ]
    },
    {
      "cell_type": "code",
      "source": [
        "# Phường nào có mật độ dân số cao nhất (2019)\n",
        "max_den = gdf['Den_2019'].max()\n",
        "comname_maxden = gdf[['Com_Name', 'Dist_Name']][gdf['Den_2019'] == max_den]\n",
        "comname_maxden = comname_maxden.values\n",
        "print(f'Phường có mật độ dân số cao nhất (2019) là {comname_maxden[0][0]} {comname_maxden[0][1]}')"
      ],
      "metadata": {
        "colab": {
          "base_uri": "https://localhost:8080/"
        },
        "id": "HyryU1OXI9o8",
        "outputId": "edd3c0d4-8a83-4ed6-a8bd-a81f2b221c7b"
      },
      "execution_count": 46,
      "outputs": [
        {
          "output_type": "stream",
          "name": "stdout",
          "text": [
            "Phường có mật độ dân số cao nhất (2019) là Ward 8 District 4\n"
          ]
        }
      ]
    },
    {
      "cell_type": "code",
      "source": [
        "# Phường nào có mật độ dân số thấp nhất (2019)\n",
        "min_den = gdf['Den_2019'].min()\n",
        "comname_minden = gdf[['Com_Name', 'Dist_Name']][gdf['Den_2019'] == min_den]\n",
        "comname_minden = comname_minden.values\n",
        "print(f'Phường có mật độ dân số thấp nhất (2019) là phường {comname_minden[0][0]} quận {comname_minden[0][1]}')"
      ],
      "metadata": {
        "colab": {
          "base_uri": "https://localhost:8080/"
        },
        "id": "PU8cOJorJFc-",
        "outputId": "102e1898-138c-44a3-cc40-d531fbb551be"
      },
      "execution_count": 47,
      "outputs": [
        {
          "output_type": "stream",
          "name": "stdout",
          "text": [
            "Phường có mật độ dân số thấp nhất (2019) là phường Ly Nhon quận Can Gio\n"
          ]
        }
      ]
    }
  ]
}